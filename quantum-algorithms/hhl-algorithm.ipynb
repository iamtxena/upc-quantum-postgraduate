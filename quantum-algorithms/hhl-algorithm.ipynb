{
 "metadata": {
  "language_info": {
   "codemirror_mode": {
    "name": "ipython",
    "version": 3
   },
   "file_extension": ".py",
   "mimetype": "text/x-python",
   "name": "python",
   "nbconvert_exporter": "python",
   "pygments_lexer": "ipython3",
   "version": "3.8.5-final"
  },
  "orig_nbformat": 2,
  "kernelspec": {
   "name": "python3",
   "display_name": "Python 3.8.5 64-bit ('upcClass': conda)",
   "metadata": {
    "interpreter": {
     "hash": "994f0abf41d29cc7a67c66cb01fedfb63482fe1d5845d79b606ab3724fbd8ca8"
    }
   }
  }
 },
 "nbformat": 4,
 "nbformat_minor": 2,
 "cells": [
  {
   "source": [
    "# Solving Linear Systems of Equations using HHL\n",
    "\n",
    "Following Qiskit textbook example on [HHL implementation](https://qiskit.org/textbook/ch-applications/hhl_tutorial.html#4.-Qiskit-Implementation)"
   ],
   "cell_type": "markdown",
   "metadata": {}
  },
  {
   "cell_type": "code",
   "execution_count": 1,
   "metadata": {},
   "outputs": [],
   "source": [
    "from qiskit import Aer\n",
    "from qiskit.circuit.library import QFT\n",
    "from qiskit.aqua import QuantumInstance, aqua_globals\n",
    "from qiskit.quantum_info import state_fidelity\n",
    "from qiskit.aqua.algorithms import HHL, NumPyLSsolver\n",
    "from qiskit.aqua.components.eigs import EigsQPE\n",
    "from qiskit.aqua.components.reciprocals import LookupRotation\n",
    "from qiskit.aqua.operators import MatrixOperator\n",
    "from qiskit.aqua.components.initial_states import Custom\n",
    "import numpy as np"
   ]
  },
  {
   "cell_type": "code",
   "execution_count": 2,
   "metadata": {},
   "outputs": [],
   "source": [
    "def create_eigs(matrix, num_ancillae, num_time_slices, negative_evals):\n",
    "    ne_qfts = [None, None]\n",
    "    if negative_evals:\n",
    "        num_ancillae += 1\n",
    "        ne_qfts = [QFT(num_ancillae - 1), QFT(num_ancillae - 1).inverse()]\n",
    "\n",
    "    return EigsQPE(MatrixOperator(matrix=matrix),\n",
    "                   QFT(num_ancillae).inverse(),\n",
    "                   num_time_slices=num_time_slices,\n",
    "                   num_ancillae=num_ancillae,\n",
    "                   expansion_mode='suzuki',\n",
    "                   expansion_order=2,\n",
    "                   evo_time=None,  # This is t, can set to: np.pi*3/4\n",
    "                   negative_evals=negative_evals,\n",
    "                   ne_qfts=ne_qfts)"
   ]
  },
  {
   "cell_type": "code",
   "execution_count": 3,
   "metadata": {},
   "outputs": [],
   "source": [
    "def fidelity(hhl, ref):\n",
    "    solution_hhl_normed = hhl / np.linalg.norm(hhl)\n",
    "    solution_ref_normed = ref / np.linalg.norm(ref)\n",
    "    fidelity = state_fidelity(solution_hhl_normed, solution_ref_normed)\n",
    "    print(\"Fidelity:\\t\\t %f\" % fidelity)"
   ]
  },
  {
   "cell_type": "code",
   "execution_count": 4,
   "metadata": {},
   "outputs": [],
   "source": [
    "matrix = [[1, -1/3], [-1/3, 1]]\n",
    "vector = [1, 0]"
   ]
  },
  {
   "cell_type": "code",
   "execution_count": 5,
   "metadata": {},
   "outputs": [],
   "source": [
    "orig_size = len(vector)\n",
    "matrix, vector, truncate_powerdim, truncate_hermitian = HHL.matrix_resize(matrix, vector)\n",
    "\n",
    "# Initialize eigenvalue finding module\n",
    "eigs = create_eigs(matrix, 3, 50, False)\n",
    "num_q, num_a = eigs.get_register_sizes()\n",
    "\n",
    "# Initialize initial state module\n",
    "init_state = Custom(num_q, state_vector=vector)\n",
    "\n",
    "# Initialize reciprocal rotation module\n",
    "reci = LookupRotation(negative_evals=eigs._negative_evals, evo_time=eigs._evo_time)\n",
    "\n",
    "algo = HHL(matrix, vector, truncate_powerdim, truncate_hermitian, eigs,\n",
    "           init_state, reci, num_q, num_a, orig_size)"
   ]
  },
  {
   "cell_type": "code",
   "execution_count": 6,
   "metadata": {},
   "outputs": [
    {
     "output_type": "stream",
     "name": "stdout",
     "text": [
      "Solution:\t\t [1.13586-0.j 0.40896-0.j]\nClassical Solution:\t [1.125 0.375]\nProbability:\t\t 0.056291\nFidelity:\t\t 0.999432\n"
     ]
    }
   ],
   "source": [
    "result = algo.run(QuantumInstance(Aer.get_backend('statevector_simulator')))\n",
    "print(\"Solution:\\t\\t\", np.round(result['solution'], 5))\n",
    "\n",
    "result_ref = NumPyLSsolver(matrix, vector).run()\n",
    "print(\"Classical Solution:\\t\", np.round(result_ref['solution'], 5))\n",
    "\n",
    "print(\"Probability:\\t\\t %f\" % result['probability_result'])\n",
    "fidelity(result['solution'], result_ref['solution'])"
   ]
  },
  {
   "cell_type": "code",
   "execution_count": 7,
   "metadata": {},
   "outputs": [
    {
     "output_type": "stream",
     "name": "stdout",
     "text": [
      "circuit_width:\t 7\ncircuit_depth:\t 101\nCNOT gates:\t 54\n"
     ]
    }
   ],
   "source": [
    "print(\"circuit_width:\\t\", result['circuit_info']['width'])\n",
    "print(\"circuit_depth:\\t\", result['circuit_info']['depth'])\n",
    "print(\"CNOT gates:\\t\", result['circuit_info']['operations']['cx'])"
   ]
  },
  {
   "cell_type": "code",
   "execution_count": null,
   "metadata": {},
   "outputs": [],
   "source": []
  }
 ]
}